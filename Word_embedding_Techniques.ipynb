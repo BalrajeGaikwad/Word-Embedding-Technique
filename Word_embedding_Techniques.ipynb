{
  "nbformat": 4,
  "nbformat_minor": 0,
  "metadata": {
    "colab": {
      "provenance": []
    },
    "kernelspec": {
      "name": "python3",
      "display_name": "Python 3"
    },
    "language_info": {
      "name": "python"
    }
  },
  "cells": [
    {
      "cell_type": "code",
      "execution_count": 1,
      "metadata": {
        "colab": {
          "base_uri": "https://localhost:8080/"
        },
        "id": "XSOAaFAbvwgU",
        "outputId": "9cee08b3-f9a1-4252-ed65-081a7345d754"
      },
      "outputs": [
        {
          "output_type": "stream",
          "name": "stdout",
          "text": [
            "Collecting tensorflow-gpu\n",
            "  Downloading tensorflow-gpu-2.12.0.tar.gz (2.6 kB)\n",
            "  \u001b[1;31merror\u001b[0m: \u001b[1msubprocess-exited-with-error\u001b[0m\n",
            "  \n",
            "  \u001b[31m×\u001b[0m \u001b[32mpython setup.py egg_info\u001b[0m did not run successfully.\n",
            "  \u001b[31m│\u001b[0m exit code: \u001b[1;36m1\u001b[0m\n",
            "  \u001b[31m╰─>\u001b[0m See above for output.\n",
            "  \n",
            "  \u001b[1;35mnote\u001b[0m: This error originates from a subprocess, and is likely not a problem with pip.\n",
            "  Preparing metadata (setup.py) ... \u001b[?25l\u001b[?25herror\n",
            "\u001b[1;31merror\u001b[0m: \u001b[1mmetadata-generation-failed\u001b[0m\n",
            "\n",
            "\u001b[31m×\u001b[0m Encountered error while generating package metadata.\n",
            "\u001b[31m╰─>\u001b[0m See above for output.\n",
            "\n",
            "\u001b[1;35mnote\u001b[0m: This is an issue with the package mentioned above, not pip.\n",
            "\u001b[1;36mhint\u001b[0m: See above for details.\n"
          ]
        }
      ],
      "source": [
        "!pip install tensorflow-gpu"
      ]
    },
    {
      "cell_type": "code",
      "source": [
        "import tensorflow as tf\n",
        "print(tf.__version__)"
      ],
      "metadata": {
        "colab": {
          "base_uri": "https://localhost:8080/"
        },
        "id": "wz4n5Evev6QZ",
        "outputId": "f231d1a6-543f-4dcb-aabd-678f8b4eaf6d"
      },
      "execution_count": 2,
      "outputs": [
        {
          "output_type": "stream",
          "name": "stdout",
          "text": [
            "2.18.0\n"
          ]
        }
      ]
    },
    {
      "cell_type": "code",
      "source": [
        "from tensorflow.keras.preprocessing.text import one_hot\n"
      ],
      "metadata": {
        "id": "cfUIGfW_wCz8"
      },
      "execution_count": 3,
      "outputs": []
    },
    {
      "cell_type": "code",
      "source": [
        "### Sentences\n",
        "sent = ['the glass of milk',\n",
        "        'the glass of juice',\n",
        "        'the cup of tea',\n",
        "        'I am a good boy',\n",
        "        'I am a good developer',\n",
        "        'understand the meaning of words',\n",
        "        'your videos are good']"
      ],
      "metadata": {
        "id": "q8djSbDGwMgH"
      },
      "execution_count": 4,
      "outputs": []
    },
    {
      "cell_type": "code",
      "source": [
        "sent"
      ],
      "metadata": {
        "colab": {
          "base_uri": "https://localhost:8080/"
        },
        "id": "RzzDr03YwQOP",
        "outputId": "880c9260-bf96-43fe-925f-1123d590ddb2"
      },
      "execution_count": 5,
      "outputs": [
        {
          "output_type": "execute_result",
          "data": {
            "text/plain": [
              "['the glass of milk',\n",
              " 'the glass of juice',\n",
              " 'the cup of tea',\n",
              " 'I am a good boy',\n",
              " 'I am a good developer',\n",
              " 'understand the meaning of words',\n",
              " 'your videos are good']"
            ]
          },
          "metadata": {},
          "execution_count": 5
        }
      ]
    },
    {
      "cell_type": "code",
      "source": [
        "### Vocabulary size --- numer of unique words in the context\n",
        "voc_size=500"
      ],
      "metadata": {
        "id": "aV3PJFcFwRHf"
      },
      "execution_count": 6,
      "outputs": []
    },
    {
      "cell_type": "markdown",
      "source": [
        "# One Hot Representation"
      ],
      "metadata": {
        "id": "JByXHkXfwdd7"
      }
    },
    {
      "cell_type": "code",
      "source": [
        "onehot_repr=[one_hot(words, voc_size)for words in sent]\n",
        "print(onehot_repr)"
      ],
      "metadata": {
        "colab": {
          "base_uri": "https://localhost:8080/"
        },
        "id": "zRXecQoHwb8Q",
        "outputId": "2746745b-7e21-43bf-dc0d-f7097ec5862d"
      },
      "execution_count": 7,
      "outputs": [
        {
          "output_type": "stream",
          "name": "stdout",
          "text": [
            "[[495, 199, 472, 414], [495, 199, 472, 362], [495, 161, 472, 422], [332, 272, 134, 467, 343], [332, 272, 134, 467, 402], [50, 495, 7, 472, 137], [170, 486, 449, 467]]\n"
          ]
        }
      ]
    },
    {
      "cell_type": "markdown",
      "source": [
        "# Word Embedding Representations"
      ],
      "metadata": {
        "id": "GqkDRIXbwt-o"
      }
    },
    {
      "cell_type": "code",
      "source": [
        "from tensorflow.keras.layers import Embedding\n",
        "from tensorflow.keras.preprocessing.sequence import pad_sequences\n",
        "from tensorflow.keras.models import Sequential"
      ],
      "metadata": {
        "id": "T3VrTYiVwrxW"
      },
      "execution_count": 9,
      "outputs": []
    },
    {
      "cell_type": "code",
      "source": [
        "import numpy as np\n"
      ],
      "metadata": {
        "id": "axW-2Yq8xH74"
      },
      "execution_count": 10,
      "outputs": []
    },
    {
      "cell_type": "code",
      "source": [
        "### Prepadding\n",
        "\n",
        "sent_length=8\n",
        "embedded_docs=pad_sequences(onehot_repr,padding='pre',maxlen=sent_length)\n",
        "print(embedded_docs)"
      ],
      "metadata": {
        "colab": {
          "base_uri": "https://localhost:8080/"
        },
        "id": "8N35Ct5WxMRn",
        "outputId": "1017b539-1e54-456e-9c27-f3e68e135554"
      },
      "execution_count": 11,
      "outputs": [
        {
          "output_type": "stream",
          "name": "stdout",
          "text": [
            "[[  0   0   0   0 495 199 472 414]\n",
            " [  0   0   0   0 495 199 472 362]\n",
            " [  0   0   0   0 495 161 472 422]\n",
            " [  0   0   0 332 272 134 467 343]\n",
            " [  0   0   0 332 272 134 467 402]\n",
            " [  0   0   0  50 495   7 472 137]\n",
            " [  0   0   0   0 170 486 449 467]]\n"
          ]
        }
      ]
    },
    {
      "cell_type": "code",
      "source": [
        "## 10 feature dimension\n",
        "dim=10"
      ],
      "metadata": {
        "id": "KE9dZ55uxaTF"
      },
      "execution_count": 12,
      "outputs": []
    },
    {
      "cell_type": "code",
      "source": [
        "model=Sequential()\n",
        "model.add(Embedding(voc_size,10,input_length=sent_length))\n",
        "model.compile('adam','mse')"
      ],
      "metadata": {
        "colab": {
          "base_uri": "https://localhost:8080/"
        },
        "id": "O7r6iLgTxhFd",
        "outputId": "719ab8f2-ddf8-421e-ea7e-13720c8004d0"
      },
      "execution_count": 14,
      "outputs": [
        {
          "output_type": "stream",
          "name": "stderr",
          "text": [
            "/usr/local/lib/python3.11/dist-packages/keras/src/layers/core/embedding.py:90: UserWarning: Argument `input_length` is deprecated. Just remove it.\n",
            "  warnings.warn(\n"
          ]
        }
      ]
    },
    {
      "cell_type": "code",
      "source": [
        "model.summary()"
      ],
      "metadata": {
        "colab": {
          "base_uri": "https://localhost:8080/",
          "height": 163
        },
        "id": "EMOC34eAxjgl",
        "outputId": "d5e1c0d5-997c-4de7-b5cc-da54fa117837"
      },
      "execution_count": 15,
      "outputs": [
        {
          "output_type": "display_data",
          "data": {
            "text/plain": [
              "\u001b[1mModel: \"sequential_1\"\u001b[0m\n"
            ],
            "text/html": [
              "<pre style=\"white-space:pre;overflow-x:auto;line-height:normal;font-family:Menlo,'DejaVu Sans Mono',consolas,'Courier New',monospace\"><span style=\"font-weight: bold\">Model: \"sequential_1\"</span>\n",
              "</pre>\n"
            ]
          },
          "metadata": {}
        },
        {
          "output_type": "display_data",
          "data": {
            "text/plain": [
              "┏━━━━━━━━━━━━━━━━━━━━━━━━━━━━━━━━━┳━━━━━━━━━━━━━━━━━━━━━━━━┳━━━━━━━━━━━━━━━┓\n",
              "┃\u001b[1m \u001b[0m\u001b[1mLayer (type)                   \u001b[0m\u001b[1m \u001b[0m┃\u001b[1m \u001b[0m\u001b[1mOutput Shape          \u001b[0m\u001b[1m \u001b[0m┃\u001b[1m \u001b[0m\u001b[1m      Param #\u001b[0m\u001b[1m \u001b[0m┃\n",
              "┡━━━━━━━━━━━━━━━━━━━━━━━━━━━━━━━━━╇━━━━━━━━━━━━━━━━━━━━━━━━╇━━━━━━━━━━━━━━━┩\n",
              "│ embedding (\u001b[38;5;33mEmbedding\u001b[0m)           │ ?                      │   \u001b[38;5;34m0\u001b[0m (unbuilt) │\n",
              "└─────────────────────────────────┴────────────────────────┴───────────────┘\n"
            ],
            "text/html": [
              "<pre style=\"white-space:pre;overflow-x:auto;line-height:normal;font-family:Menlo,'DejaVu Sans Mono',consolas,'Courier New',monospace\">┏━━━━━━━━━━━━━━━━━━━━━━━━━━━━━━━━━┳━━━━━━━━━━━━━━━━━━━━━━━━┳━━━━━━━━━━━━━━━┓\n",
              "┃<span style=\"font-weight: bold\"> Layer (type)                    </span>┃<span style=\"font-weight: bold\"> Output Shape           </span>┃<span style=\"font-weight: bold\">       Param # </span>┃\n",
              "┡━━━━━━━━━━━━━━━━━━━━━━━━━━━━━━━━━╇━━━━━━━━━━━━━━━━━━━━━━━━╇━━━━━━━━━━━━━━━┩\n",
              "│ embedding (<span style=\"color: #0087ff; text-decoration-color: #0087ff\">Embedding</span>)           │ ?                      │   <span style=\"color: #00af00; text-decoration-color: #00af00\">0</span> (unbuilt) │\n",
              "└─────────────────────────────────┴────────────────────────┴───────────────┘\n",
              "</pre>\n"
            ]
          },
          "metadata": {}
        },
        {
          "output_type": "display_data",
          "data": {
            "text/plain": [
              "\u001b[1m Total params: \u001b[0m\u001b[38;5;34m0\u001b[0m (0.00 B)\n"
            ],
            "text/html": [
              "<pre style=\"white-space:pre;overflow-x:auto;line-height:normal;font-family:Menlo,'DejaVu Sans Mono',consolas,'Courier New',monospace\"><span style=\"font-weight: bold\"> Total params: </span><span style=\"color: #00af00; text-decoration-color: #00af00\">0</span> (0.00 B)\n",
              "</pre>\n"
            ]
          },
          "metadata": {}
        },
        {
          "output_type": "display_data",
          "data": {
            "text/plain": [
              "\u001b[1m Trainable params: \u001b[0m\u001b[38;5;34m0\u001b[0m (0.00 B)\n"
            ],
            "text/html": [
              "<pre style=\"white-space:pre;overflow-x:auto;line-height:normal;font-family:Menlo,'DejaVu Sans Mono',consolas,'Courier New',monospace\"><span style=\"font-weight: bold\"> Trainable params: </span><span style=\"color: #00af00; text-decoration-color: #00af00\">0</span> (0.00 B)\n",
              "</pre>\n"
            ]
          },
          "metadata": {}
        },
        {
          "output_type": "display_data",
          "data": {
            "text/plain": [
              "\u001b[1m Non-trainable params: \u001b[0m\u001b[38;5;34m0\u001b[0m (0.00 B)\n"
            ],
            "text/html": [
              "<pre style=\"white-space:pre;overflow-x:auto;line-height:normal;font-family:Menlo,'DejaVu Sans Mono',consolas,'Courier New',monospace\"><span style=\"font-weight: bold\"> Non-trainable params: </span><span style=\"color: #00af00; text-decoration-color: #00af00\">0</span> (0.00 B)\n",
              "</pre>\n"
            ]
          },
          "metadata": {}
        }
      ]
    },
    {
      "cell_type": "code",
      "source": [
        "#### the glass of milk\n",
        "embedded_docs[0]"
      ],
      "metadata": {
        "colab": {
          "base_uri": "https://localhost:8080/"
        },
        "id": "S8GpQKGgxzzG",
        "outputId": "970560ea-6abe-4adc-a0f0-2e89eb296fdd"
      },
      "execution_count": 16,
      "outputs": [
        {
          "output_type": "execute_result",
          "data": {
            "text/plain": [
              "array([  0,   0,   0,   0, 495, 199, 472, 414], dtype=int32)"
            ]
          },
          "metadata": {},
          "execution_count": 16
        }
      ]
    },
    {
      "cell_type": "code",
      "source": [
        "model.predict(embedded_docs[0])"
      ],
      "metadata": {
        "colab": {
          "base_uri": "https://localhost:8080/"
        },
        "id": "RN6qbQBIx55W",
        "outputId": "689b7245-f38a-4422-dee8-d17324f66cdb"
      },
      "execution_count": 17,
      "outputs": [
        {
          "output_type": "stream",
          "name": "stdout",
          "text": [
            "\u001b[1m1/1\u001b[0m \u001b[32m━━━━━━━━━━━━━━━━━━━━\u001b[0m\u001b[37m\u001b[0m \u001b[1m0s\u001b[0m 255ms/step\n"
          ]
        },
        {
          "output_type": "execute_result",
          "data": {
            "text/plain": [
              "array([[ 0.03745217,  0.03130463,  0.04442874, -0.0148361 ,  0.03840883,\n",
              "         0.00792079,  0.01290078,  0.0003034 ,  0.03851545,  0.0493752 ],\n",
              "       [ 0.03745217,  0.03130463,  0.04442874, -0.0148361 ,  0.03840883,\n",
              "         0.00792079,  0.01290078,  0.0003034 ,  0.03851545,  0.0493752 ],\n",
              "       [ 0.03745217,  0.03130463,  0.04442874, -0.0148361 ,  0.03840883,\n",
              "         0.00792079,  0.01290078,  0.0003034 ,  0.03851545,  0.0493752 ],\n",
              "       [ 0.03745217,  0.03130463,  0.04442874, -0.0148361 ,  0.03840883,\n",
              "         0.00792079,  0.01290078,  0.0003034 ,  0.03851545,  0.0493752 ],\n",
              "       [-0.00011991,  0.03603155,  0.02574824,  0.0492929 ,  0.01804737,\n",
              "         0.0048874 ,  0.03981272, -0.0292029 , -0.0387293 ,  0.01591961],\n",
              "       [ 0.01508636,  0.04075145, -0.00213935, -0.03166791, -0.0264287 ,\n",
              "         0.02739031,  0.02918785,  0.02688321, -0.02426795,  0.02780408],\n",
              "       [-0.03922937, -0.04430225, -0.01137327,  0.04354136, -0.00609125,\n",
              "        -0.02255509, -0.04651555,  0.04513406, -0.01458116,  0.04644097],\n",
              "       [-0.02962645,  0.01349277,  0.03962347,  0.01364293,  0.01006234,\n",
              "         0.0145965 , -0.01911346, -0.0343866 ,  0.04401791, -0.00116068]],\n",
              "      dtype=float32)"
            ]
          },
          "metadata": {},
          "execution_count": 17
        }
      ]
    },
    {
      "cell_type": "code",
      "source": [
        "embedded_docs[0]"
      ],
      "metadata": {
        "colab": {
          "base_uri": "https://localhost:8080/"
        },
        "id": "oIvPBQ3qx8ie",
        "outputId": "6fcbfde2-e484-46e7-a817-0535114d9664"
      },
      "execution_count": 18,
      "outputs": [
        {
          "output_type": "execute_result",
          "data": {
            "text/plain": [
              "array([  0,   0,   0,   0, 495, 199, 472, 414], dtype=int32)"
            ]
          },
          "metadata": {},
          "execution_count": 18
        }
      ]
    },
    {
      "cell_type": "code",
      "source": [],
      "metadata": {
        "id": "LEPnnuOJyA0G"
      },
      "execution_count": 22,
      "outputs": []
    },
    {
      "cell_type": "code",
      "source": [],
      "metadata": {
        "id": "Zh1bfqsXyGC-"
      },
      "execution_count": 22,
      "outputs": []
    },
    {
      "cell_type": "code",
      "source": [],
      "metadata": {
        "id": "kt7P2uV-yUEl"
      },
      "execution_count": null,
      "outputs": []
    },
    {
      "cell_type": "markdown",
      "source": [
        "### Assignment\n",
        "\n",
        "sent=[\n",
        "      **\"The world is a better place\",**\n",
        "\n",
        "      **\"Marvel series is my favourite movie\",**\n",
        "\n",
        "      **\"I like DC movies\",**\n",
        "\n",
        "      **\"the cat is eating the food\",**\n",
        "\n",
        "      **\"Tom and Jerry is my favourite movie\",**\n",
        "\n",
        "      **\"Python is my favourite programming language\"**\n",
        "      ]"
      ],
      "metadata": {
        "id": "9ejcAroOyeuf"
      }
    },
    {
      "cell_type": "code",
      "source": [
        "### rensorflow\n",
        "\n",
        "from tensorflow.keras.preprocessing.text import one_hot"
      ],
      "metadata": {
        "id": "aab-r1Moyhn7"
      },
      "execution_count": 39,
      "outputs": []
    },
    {
      "cell_type": "code",
      "source": [
        "sent=[\"The world is a better place\",\n",
        "      \"Marvel series is my favourite movie\",\n",
        "      \"I like DC movies\",\n",
        "      \"the cat is eating the food\",\n",
        "      \"Tom and Jerry is my favourite movie\",\n",
        "      \"Python is my favourite programming language\"\n",
        "      ]"
      ],
      "metadata": {
        "id": "aUdujzary2RG"
      },
      "execution_count": 40,
      "outputs": []
    },
    {
      "cell_type": "code",
      "source": [
        "voc_size=500"
      ],
      "metadata": {
        "id": "Zw1AN5GFy5U1"
      },
      "execution_count": 41,
      "outputs": []
    },
    {
      "cell_type": "code",
      "source": [
        "onehot_rep=[one_hot(words, voc_size)for words in sent]\n",
        "print(onehot_rep)"
      ],
      "metadata": {
        "colab": {
          "base_uri": "https://localhost:8080/"
        },
        "id": "N5VSkTJ7y8uV",
        "outputId": "92c130bf-62bf-431b-8a1c-e5bd3508b149"
      },
      "execution_count": 42,
      "outputs": [
        {
          "output_type": "stream",
          "name": "stdout",
          "text": [
            "[[495, 290, 157, 134, 268, 250], [135, 187, 157, 163, 71, 466], [332, 17, 228, 155], [495, 24, 157, 19, 495, 153], [352, 286, 89, 157, 163, 71, 466], [8, 157, 163, 71, 401, 83]]\n"
          ]
        }
      ]
    },
    {
      "cell_type": "code",
      "source": [
        "### Word Embeddings\n",
        "from tensorflow.keras.layers import Embedding\n",
        "from tensorflow.keras.preprocessing.sequence import pad_sequences\n",
        "from tensorflow.keras.models import Sequential"
      ],
      "metadata": {
        "id": "gcjBcUpWzA6s"
      },
      "execution_count": 43,
      "outputs": []
    },
    {
      "cell_type": "code",
      "source": [
        "import numpy as np"
      ],
      "metadata": {
        "id": "IXbPFg7mzIzD"
      },
      "execution_count": 44,
      "outputs": []
    },
    {
      "cell_type": "code",
      "source": [
        "## Post Padding\n",
        "\n",
        "sent_length=10\n",
        "embedded_docs=pad_sequences(onehot_rep, padding='pre',maxlen=sent_length)\n",
        "print(embedded_docs)"
      ],
      "metadata": {
        "colab": {
          "base_uri": "https://localhost:8080/"
        },
        "id": "dT69e0KYzKv1",
        "outputId": "754f1a2d-2476-438e-8818-ba8058667d6a"
      },
      "execution_count": 45,
      "outputs": [
        {
          "output_type": "stream",
          "name": "stdout",
          "text": [
            "[[  0   0   0   0 495 290 157 134 268 250]\n",
            " [  0   0   0   0 135 187 157 163  71 466]\n",
            " [  0   0   0   0   0   0 332  17 228 155]\n",
            " [  0   0   0   0 495  24 157  19 495 153]\n",
            " [  0   0   0 352 286  89 157 163  71 466]\n",
            " [  0   0   0   0   8 157 163  71 401  83]]\n"
          ]
        }
      ]
    },
    {
      "cell_type": "code",
      "source": [
        "## 15 feature dimensions"
      ],
      "metadata": {
        "id": "bmPSBYt0zYrE"
      },
      "execution_count": 46,
      "outputs": []
    },
    {
      "cell_type": "code",
      "source": [
        "dim=10\n"
      ],
      "metadata": {
        "id": "R1g9Wv--zdg8"
      },
      "execution_count": 47,
      "outputs": []
    },
    {
      "cell_type": "code",
      "source": [
        "model=Sequential()\n",
        "model.add(Embedding(voc_size,10,input_length=sent_length))\n",
        "model.compile('adam','mse')"
      ],
      "metadata": {
        "id": "dxwCNHU3zeus"
      },
      "execution_count": 48,
      "outputs": []
    },
    {
      "cell_type": "code",
      "source": [
        "model.summary()"
      ],
      "metadata": {
        "colab": {
          "base_uri": "https://localhost:8080/",
          "height": 163
        },
        "id": "yzml5zjCzibM",
        "outputId": "6d030816-e4e6-4cf8-96a1-ebfd88a72c2e"
      },
      "execution_count": 49,
      "outputs": [
        {
          "output_type": "display_data",
          "data": {
            "text/plain": [
              "\u001b[1mModel: \"sequential_4\"\u001b[0m\n"
            ],
            "text/html": [
              "<pre style=\"white-space:pre;overflow-x:auto;line-height:normal;font-family:Menlo,'DejaVu Sans Mono',consolas,'Courier New',monospace\"><span style=\"font-weight: bold\">Model: \"sequential_4\"</span>\n",
              "</pre>\n"
            ]
          },
          "metadata": {}
        },
        {
          "output_type": "display_data",
          "data": {
            "text/plain": [
              "┏━━━━━━━━━━━━━━━━━━━━━━━━━━━━━━━━━┳━━━━━━━━━━━━━━━━━━━━━━━━┳━━━━━━━━━━━━━━━┓\n",
              "┃\u001b[1m \u001b[0m\u001b[1mLayer (type)                   \u001b[0m\u001b[1m \u001b[0m┃\u001b[1m \u001b[0m\u001b[1mOutput Shape          \u001b[0m\u001b[1m \u001b[0m┃\u001b[1m \u001b[0m\u001b[1m      Param #\u001b[0m\u001b[1m \u001b[0m┃\n",
              "┡━━━━━━━━━━━━━━━━━━━━━━━━━━━━━━━━━╇━━━━━━━━━━━━━━━━━━━━━━━━╇━━━━━━━━━━━━━━━┩\n",
              "│ embedding_3 (\u001b[38;5;33mEmbedding\u001b[0m)         │ ?                      │   \u001b[38;5;34m0\u001b[0m (unbuilt) │\n",
              "└─────────────────────────────────┴────────────────────────┴───────────────┘\n"
            ],
            "text/html": [
              "<pre style=\"white-space:pre;overflow-x:auto;line-height:normal;font-family:Menlo,'DejaVu Sans Mono',consolas,'Courier New',monospace\">┏━━━━━━━━━━━━━━━━━━━━━━━━━━━━━━━━━┳━━━━━━━━━━━━━━━━━━━━━━━━┳━━━━━━━━━━━━━━━┓\n",
              "┃<span style=\"font-weight: bold\"> Layer (type)                    </span>┃<span style=\"font-weight: bold\"> Output Shape           </span>┃<span style=\"font-weight: bold\">       Param # </span>┃\n",
              "┡━━━━━━━━━━━━━━━━━━━━━━━━━━━━━━━━━╇━━━━━━━━━━━━━━━━━━━━━━━━╇━━━━━━━━━━━━━━━┩\n",
              "│ embedding_3 (<span style=\"color: #0087ff; text-decoration-color: #0087ff\">Embedding</span>)         │ ?                      │   <span style=\"color: #00af00; text-decoration-color: #00af00\">0</span> (unbuilt) │\n",
              "└─────────────────────────────────┴────────────────────────┴───────────────┘\n",
              "</pre>\n"
            ]
          },
          "metadata": {}
        },
        {
          "output_type": "display_data",
          "data": {
            "text/plain": [
              "\u001b[1m Total params: \u001b[0m\u001b[38;5;34m0\u001b[0m (0.00 B)\n"
            ],
            "text/html": [
              "<pre style=\"white-space:pre;overflow-x:auto;line-height:normal;font-family:Menlo,'DejaVu Sans Mono',consolas,'Courier New',monospace\"><span style=\"font-weight: bold\"> Total params: </span><span style=\"color: #00af00; text-decoration-color: #00af00\">0</span> (0.00 B)\n",
              "</pre>\n"
            ]
          },
          "metadata": {}
        },
        {
          "output_type": "display_data",
          "data": {
            "text/plain": [
              "\u001b[1m Trainable params: \u001b[0m\u001b[38;5;34m0\u001b[0m (0.00 B)\n"
            ],
            "text/html": [
              "<pre style=\"white-space:pre;overflow-x:auto;line-height:normal;font-family:Menlo,'DejaVu Sans Mono',consolas,'Courier New',monospace\"><span style=\"font-weight: bold\"> Trainable params: </span><span style=\"color: #00af00; text-decoration-color: #00af00\">0</span> (0.00 B)\n",
              "</pre>\n"
            ]
          },
          "metadata": {}
        },
        {
          "output_type": "display_data",
          "data": {
            "text/plain": [
              "\u001b[1m Non-trainable params: \u001b[0m\u001b[38;5;34m0\u001b[0m (0.00 B)\n"
            ],
            "text/html": [
              "<pre style=\"white-space:pre;overflow-x:auto;line-height:normal;font-family:Menlo,'DejaVu Sans Mono',consolas,'Courier New',monospace\"><span style=\"font-weight: bold\"> Non-trainable params: </span><span style=\"color: #00af00; text-decoration-color: #00af00\">0</span> (0.00 B)\n",
              "</pre>\n"
            ]
          },
          "metadata": {}
        }
      ]
    },
    {
      "cell_type": "code",
      "source": [
        "embedded_docs[0]"
      ],
      "metadata": {
        "colab": {
          "base_uri": "https://localhost:8080/"
        },
        "id": "4ql3AaLTzkUs",
        "outputId": "e1e9c7e0-2458-46ac-cf8f-7aa820150f39"
      },
      "execution_count": 50,
      "outputs": [
        {
          "output_type": "execute_result",
          "data": {
            "text/plain": [
              "array([  0,   0,   0,   0, 495, 290, 157, 134, 268, 250], dtype=int32)"
            ]
          },
          "metadata": {},
          "execution_count": 50
        }
      ]
    },
    {
      "cell_type": "code",
      "source": [
        "print(model.predict(embedded_docs))"
      ],
      "metadata": {
        "colab": {
          "base_uri": "https://localhost:8080/"
        },
        "id": "LjQwYk4pz9XU",
        "outputId": "c3088c92-f899-4bdb-d6ff-fee3c07c858e"
      },
      "execution_count": 51,
      "outputs": [
        {
          "output_type": "stream",
          "name": "stdout",
          "text": [
            "\u001b[1m1/1\u001b[0m \u001b[32m━━━━━━━━━━━━━━━━━━━━\u001b[0m\u001b[37m\u001b[0m \u001b[1m0s\u001b[0m 150ms/step\n",
            "[[[ 9.05990601e-05 -4.69829813e-02  7.49323517e-03  2.11676098e-02\n",
            "    4.81176488e-02 -6.74001127e-03  2.74649747e-02 -2.07807776e-02\n",
            "   -2.89618131e-02  2.73843668e-02]\n",
            "  [ 9.05990601e-05 -4.69829813e-02  7.49323517e-03  2.11676098e-02\n",
            "    4.81176488e-02 -6.74001127e-03  2.74649747e-02 -2.07807776e-02\n",
            "   -2.89618131e-02  2.73843668e-02]\n",
            "  [ 9.05990601e-05 -4.69829813e-02  7.49323517e-03  2.11676098e-02\n",
            "    4.81176488e-02 -6.74001127e-03  2.74649747e-02 -2.07807776e-02\n",
            "   -2.89618131e-02  2.73843668e-02]\n",
            "  [ 9.05990601e-05 -4.69829813e-02  7.49323517e-03  2.11676098e-02\n",
            "    4.81176488e-02 -6.74001127e-03  2.74649747e-02 -2.07807776e-02\n",
            "   -2.89618131e-02  2.73843668e-02]\n",
            "  [-2.41837036e-02  2.23253705e-02  2.92595141e-02 -9.06367227e-03\n",
            "    8.84079933e-03 -1.08555444e-02 -3.27599533e-02 -3.70052569e-02\n",
            "   -1.52746551e-02  3.91770266e-02]\n",
            "  [-4.81879003e-02  3.39356177e-02  4.56121452e-02 -1.35657415e-02\n",
            "    3.13226841e-02 -4.23158891e-02  2.55354531e-02 -3.91990542e-02\n",
            "    2.47669928e-02 -4.79492657e-02]\n",
            "  [-1.37775056e-02  1.53049491e-02 -1.42557621e-02 -4.60664742e-02\n",
            "   -2.57644411e-02  4.85531129e-02  4.24419381e-02  2.05099098e-02\n",
            "   -2.96944510e-02  1.69537961e-04]\n",
            "  [ 3.91880535e-02  2.20609643e-02 -3.80635262e-04 -9.82127339e-03\n",
            "    1.10398158e-02 -1.68396458e-02  4.79636453e-02 -3.13035995e-02\n",
            "   -1.71366334e-02  1.81591175e-02]\n",
            "  [-8.15994665e-03  3.45647335e-04 -2.60035396e-02 -5.35964966e-03\n",
            "   -4.45055962e-03 -3.71990353e-03 -3.82259600e-02  2.98862495e-02\n",
            "    2.00519301e-02  3.57650183e-02]\n",
            "  [-2.88499240e-02 -3.64888199e-02 -4.34958227e-02 -4.56916168e-03\n",
            "    4.61608507e-02 -3.86119485e-02 -7.40451738e-03  7.04016536e-03\n",
            "   -4.13173810e-02 -4.96784337e-02]]\n",
            "\n",
            " [[ 9.05990601e-05 -4.69829813e-02  7.49323517e-03  2.11676098e-02\n",
            "    4.81176488e-02 -6.74001127e-03  2.74649747e-02 -2.07807776e-02\n",
            "   -2.89618131e-02  2.73843668e-02]\n",
            "  [ 9.05990601e-05 -4.69829813e-02  7.49323517e-03  2.11676098e-02\n",
            "    4.81176488e-02 -6.74001127e-03  2.74649747e-02 -2.07807776e-02\n",
            "   -2.89618131e-02  2.73843668e-02]\n",
            "  [ 9.05990601e-05 -4.69829813e-02  7.49323517e-03  2.11676098e-02\n",
            "    4.81176488e-02 -6.74001127e-03  2.74649747e-02 -2.07807776e-02\n",
            "   -2.89618131e-02  2.73843668e-02]\n",
            "  [ 9.05990601e-05 -4.69829813e-02  7.49323517e-03  2.11676098e-02\n",
            "    4.81176488e-02 -6.74001127e-03  2.74649747e-02 -2.07807776e-02\n",
            "   -2.89618131e-02  2.73843668e-02]\n",
            "  [ 6.88680261e-03  3.40392478e-02 -5.34214824e-03 -5.06675243e-03\n",
            "   -3.15880179e-02 -4.97494005e-02  3.89010645e-02  1.20286122e-02\n",
            "   -1.25931576e-03 -4.27232645e-02]\n",
            "  [-3.64947692e-02  1.22356638e-02 -2.94677373e-02  2.02061981e-03\n",
            "   -7.05057383e-03  3.50881368e-04  2.54817344e-02  2.26531662e-02\n",
            "    3.19474377e-02  4.45509218e-02]\n",
            "  [-1.37775056e-02  1.53049491e-02 -1.42557621e-02 -4.60664742e-02\n",
            "   -2.57644411e-02  4.85531129e-02  4.24419381e-02  2.05099098e-02\n",
            "   -2.96944510e-02  1.69537961e-04]\n",
            "  [-1.08741149e-02  7.60197639e-03  2.73503326e-02 -3.80780213e-02\n",
            "    1.33957602e-02 -6.65315241e-03  4.00806591e-03  5.48506901e-03\n",
            "   -3.49799022e-02 -3.34151536e-02]\n",
            "  [-1.93182714e-02  4.36892360e-03 -4.97011058e-02 -6.17469475e-03\n",
            "    4.12495062e-03 -4.77227457e-02  4.71036546e-02 -2.15924513e-02\n",
            "    1.86314434e-03  4.23947722e-03]\n",
            "  [-1.72307715e-02 -1.77524090e-02 -2.68644337e-02  1.46384351e-02\n",
            "    2.69869678e-02 -2.01603305e-02  1.90076344e-02  6.47313520e-03\n",
            "    1.54539384e-02  2.70171650e-02]]\n",
            "\n",
            " [[ 9.05990601e-05 -4.69829813e-02  7.49323517e-03  2.11676098e-02\n",
            "    4.81176488e-02 -6.74001127e-03  2.74649747e-02 -2.07807776e-02\n",
            "   -2.89618131e-02  2.73843668e-02]\n",
            "  [ 9.05990601e-05 -4.69829813e-02  7.49323517e-03  2.11676098e-02\n",
            "    4.81176488e-02 -6.74001127e-03  2.74649747e-02 -2.07807776e-02\n",
            "   -2.89618131e-02  2.73843668e-02]\n",
            "  [ 9.05990601e-05 -4.69829813e-02  7.49323517e-03  2.11676098e-02\n",
            "    4.81176488e-02 -6.74001127e-03  2.74649747e-02 -2.07807776e-02\n",
            "   -2.89618131e-02  2.73843668e-02]\n",
            "  [ 9.05990601e-05 -4.69829813e-02  7.49323517e-03  2.11676098e-02\n",
            "    4.81176488e-02 -6.74001127e-03  2.74649747e-02 -2.07807776e-02\n",
            "   -2.89618131e-02  2.73843668e-02]\n",
            "  [ 9.05990601e-05 -4.69829813e-02  7.49323517e-03  2.11676098e-02\n",
            "    4.81176488e-02 -6.74001127e-03  2.74649747e-02 -2.07807776e-02\n",
            "   -2.89618131e-02  2.73843668e-02]\n",
            "  [ 9.05990601e-05 -4.69829813e-02  7.49323517e-03  2.11676098e-02\n",
            "    4.81176488e-02 -6.74001127e-03  2.74649747e-02 -2.07807776e-02\n",
            "   -2.89618131e-02  2.73843668e-02]\n",
            "  [ 4.31284048e-02 -2.84276735e-02  3.48289721e-02  1.69410594e-02\n",
            "    3.58325951e-02  4.16122712e-02  2.82592662e-02  4.71560694e-02\n",
            "   -4.54361923e-02  7.70366192e-03]\n",
            "  [-1.44276246e-02  1.16290450e-02 -2.28742845e-02 -2.07532570e-03\n",
            "   -4.70044017e-02  1.36387609e-02  4.75049652e-02 -2.33497154e-02\n",
            "    3.95140089e-02  4.19118889e-02]\n",
            "  [ 4.45065163e-02 -4.58317511e-02 -2.41169464e-02  8.10172409e-03\n",
            "    4.56815250e-02 -1.52016990e-02 -3.90924811e-02  3.73494513e-02\n",
            "   -3.03041339e-02 -3.74564156e-02]\n",
            "  [-1.47150755e-02  1.26574673e-02  5.57642058e-03 -6.20412827e-03\n",
            "    4.61928882e-02  4.49197032e-02  6.75607845e-03  3.30220126e-02\n",
            "   -1.74114853e-03  3.24076675e-02]]\n",
            "\n",
            " [[ 9.05990601e-05 -4.69829813e-02  7.49323517e-03  2.11676098e-02\n",
            "    4.81176488e-02 -6.74001127e-03  2.74649747e-02 -2.07807776e-02\n",
            "   -2.89618131e-02  2.73843668e-02]\n",
            "  [ 9.05990601e-05 -4.69829813e-02  7.49323517e-03  2.11676098e-02\n",
            "    4.81176488e-02 -6.74001127e-03  2.74649747e-02 -2.07807776e-02\n",
            "   -2.89618131e-02  2.73843668e-02]\n",
            "  [ 9.05990601e-05 -4.69829813e-02  7.49323517e-03  2.11676098e-02\n",
            "    4.81176488e-02 -6.74001127e-03  2.74649747e-02 -2.07807776e-02\n",
            "   -2.89618131e-02  2.73843668e-02]\n",
            "  [ 9.05990601e-05 -4.69829813e-02  7.49323517e-03  2.11676098e-02\n",
            "    4.81176488e-02 -6.74001127e-03  2.74649747e-02 -2.07807776e-02\n",
            "   -2.89618131e-02  2.73843668e-02]\n",
            "  [-2.41837036e-02  2.23253705e-02  2.92595141e-02 -9.06367227e-03\n",
            "    8.84079933e-03 -1.08555444e-02 -3.27599533e-02 -3.70052569e-02\n",
            "   -1.52746551e-02  3.91770266e-02]\n",
            "  [-4.27861139e-03  2.71239132e-03  2.86845602e-02 -5.18218428e-03\n",
            "   -1.01976469e-03 -4.58828099e-02  2.46455409e-02  3.21655348e-03\n",
            "    2.16673128e-02  7.99982622e-03]\n",
            "  [-1.37775056e-02  1.53049491e-02 -1.42557621e-02 -4.60664742e-02\n",
            "   -2.57644411e-02  4.85531129e-02  4.24419381e-02  2.05099098e-02\n",
            "   -2.96944510e-02  1.69537961e-04]\n",
            "  [-3.56471054e-02 -1.24019757e-02 -3.19127813e-02  4.76794951e-02\n",
            "    1.58246867e-02  1.32573731e-02 -4.10888568e-02 -1.57821886e-02\n",
            "    2.98152119e-03  3.73206623e-02]\n",
            "  [-2.41837036e-02  2.23253705e-02  2.92595141e-02 -9.06367227e-03\n",
            "    8.84079933e-03 -1.08555444e-02 -3.27599533e-02 -3.70052569e-02\n",
            "   -1.52746551e-02  3.91770266e-02]\n",
            "  [-4.42101248e-02  3.40518095e-02  1.37485564e-04  1.99119002e-03\n",
            "    3.63256782e-03  4.60239314e-02 -1.12077482e-02 -1.56973004e-02\n",
            "   -4.74160686e-02 -3.64434347e-02]]\n",
            "\n",
            " [[ 9.05990601e-05 -4.69829813e-02  7.49323517e-03  2.11676098e-02\n",
            "    4.81176488e-02 -6.74001127e-03  2.74649747e-02 -2.07807776e-02\n",
            "   -2.89618131e-02  2.73843668e-02]\n",
            "  [ 9.05990601e-05 -4.69829813e-02  7.49323517e-03  2.11676098e-02\n",
            "    4.81176488e-02 -6.74001127e-03  2.74649747e-02 -2.07807776e-02\n",
            "   -2.89618131e-02  2.73843668e-02]\n",
            "  [ 9.05990601e-05 -4.69829813e-02  7.49323517e-03  2.11676098e-02\n",
            "    4.81176488e-02 -6.74001127e-03  2.74649747e-02 -2.07807776e-02\n",
            "   -2.89618131e-02  2.73843668e-02]\n",
            "  [ 2.39479654e-02 -2.49672532e-02  1.77316107e-02  3.16742994e-02\n",
            "    4.23387997e-02  4.02717032e-02 -1.76584125e-02  3.86498235e-02\n",
            "    3.10583822e-02  4.60861214e-02]\n",
            "  [-4.64731120e-02 -4.51028347e-04  2.18100064e-02  3.51134576e-02\n",
            "    1.04581937e-02  4.66974825e-03  1.60109252e-04 -3.68265621e-02\n",
            "    3.67455147e-02 -3.53892818e-02]\n",
            "  [-3.09435129e-02  3.78965214e-03  5.73531538e-03 -3.39563973e-02\n",
            "   -3.24440747e-02 -4.13937196e-02  1.76810287e-02  1.72207989e-02\n",
            "    4.67614047e-02  1.00069121e-03]\n",
            "  [-1.37775056e-02  1.53049491e-02 -1.42557621e-02 -4.60664742e-02\n",
            "   -2.57644411e-02  4.85531129e-02  4.24419381e-02  2.05099098e-02\n",
            "   -2.96944510e-02  1.69537961e-04]\n",
            "  [-1.08741149e-02  7.60197639e-03  2.73503326e-02 -3.80780213e-02\n",
            "    1.33957602e-02 -6.65315241e-03  4.00806591e-03  5.48506901e-03\n",
            "   -3.49799022e-02 -3.34151536e-02]\n",
            "  [-1.93182714e-02  4.36892360e-03 -4.97011058e-02 -6.17469475e-03\n",
            "    4.12495062e-03 -4.77227457e-02  4.71036546e-02 -2.15924513e-02\n",
            "    1.86314434e-03  4.23947722e-03]\n",
            "  [-1.72307715e-02 -1.77524090e-02 -2.68644337e-02  1.46384351e-02\n",
            "    2.69869678e-02 -2.01603305e-02  1.90076344e-02  6.47313520e-03\n",
            "    1.54539384e-02  2.70171650e-02]]\n",
            "\n",
            " [[ 9.05990601e-05 -4.69829813e-02  7.49323517e-03  2.11676098e-02\n",
            "    4.81176488e-02 -6.74001127e-03  2.74649747e-02 -2.07807776e-02\n",
            "   -2.89618131e-02  2.73843668e-02]\n",
            "  [ 9.05990601e-05 -4.69829813e-02  7.49323517e-03  2.11676098e-02\n",
            "    4.81176488e-02 -6.74001127e-03  2.74649747e-02 -2.07807776e-02\n",
            "   -2.89618131e-02  2.73843668e-02]\n",
            "  [ 9.05990601e-05 -4.69829813e-02  7.49323517e-03  2.11676098e-02\n",
            "    4.81176488e-02 -6.74001127e-03  2.74649747e-02 -2.07807776e-02\n",
            "   -2.89618131e-02  2.73843668e-02]\n",
            "  [ 9.05990601e-05 -4.69829813e-02  7.49323517e-03  2.11676098e-02\n",
            "    4.81176488e-02 -6.74001127e-03  2.74649747e-02 -2.07807776e-02\n",
            "   -2.89618131e-02  2.73843668e-02]\n",
            "  [ 1.77090056e-02 -2.16056705e-02  5.72224706e-03  4.26188968e-02\n",
            "    3.36390622e-02 -3.84171009e-02  4.95831706e-02  3.43972184e-02\n",
            "    3.30686569e-03  3.31808068e-02]\n",
            "  [-1.37775056e-02  1.53049491e-02 -1.42557621e-02 -4.60664742e-02\n",
            "   -2.57644411e-02  4.85531129e-02  4.24419381e-02  2.05099098e-02\n",
            "   -2.96944510e-02  1.69537961e-04]\n",
            "  [-1.08741149e-02  7.60197639e-03  2.73503326e-02 -3.80780213e-02\n",
            "    1.33957602e-02 -6.65315241e-03  4.00806591e-03  5.48506901e-03\n",
            "   -3.49799022e-02 -3.34151536e-02]\n",
            "  [-1.93182714e-02  4.36892360e-03 -4.97011058e-02 -6.17469475e-03\n",
            "    4.12495062e-03 -4.77227457e-02  4.71036546e-02 -2.15924513e-02\n",
            "    1.86314434e-03  4.23947722e-03]\n",
            "  [-3.19300294e-02 -3.53173129e-02  4.81274240e-02 -4.70171347e-02\n",
            "   -2.03642491e-02  3.11124325e-03 -4.78236787e-02 -3.90427932e-02\n",
            "   -1.97626650e-04 -1.33761279e-02]\n",
            "  [ 4.51171435e-02  2.45977193e-04  1.65425241e-04  4.43400256e-02\n",
            "    3.09574269e-02 -3.77335325e-02  1.83279850e-02  2.94625275e-02\n",
            "    2.65365578e-02  4.16541956e-02]]]\n"
          ]
        }
      ]
    },
    {
      "cell_type": "code",
      "source": [],
      "metadata": {
        "id": "sL1VUkpez_RM"
      },
      "execution_count": null,
      "outputs": []
    }
  ]
}